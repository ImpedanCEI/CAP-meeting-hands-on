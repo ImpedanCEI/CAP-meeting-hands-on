{
 "cells": [
  {
   "cell_type": "markdown",
   "id": "3c9b0da0",
   "metadata": {},
   "source": [
    "## Wakefield simulation using Wakis\n",
    "\n",
    "In this example we will set up and simulate start-to-end an accelerator cavity"
   ]
  },
  {
   "cell_type": "code",
   "execution_count": null,
   "id": "291ccf8f",
   "metadata": {},
   "outputs": [],
   "source": [
    "import numpy as np                  # arrays and operations\n",
    "import pyvista as pv                # for 3d plotting\n",
    "import matplotlib.pyplot as plt     # for 1d, 2d plotting\n",
    "\n",
    "from wakis import GridFIT3D         # grid generation\n",
    "from wakis import SolverFIT3D       # electromagnetic solver\n",
    "from wakis import WakeSolver        # wakefield and impedance calculation"
   ]
  },
  {
   "cell_type": "markdown",
   "id": "4aebb20c",
   "metadata": {},
   "source": [
    "### Reading and/or generating geometry with `PyVista`"
   ]
  },
  {
   "cell_type": "code",
   "execution_count": null,
   "id": "ecd493d9",
   "metadata": {},
   "outputs": [],
   "source": [
    "# ---------- Domain setup ---------\n",
    "\n",
    "# Pre-generated geometry in STL / OBJ / STEP format\n",
    "stl_cavity = 'data/cavity_vacuum.stl' \n",
    "stl_shell = 'data/cavity_shell.stl'\n",
    "\n",
    "# We can read them and plot them with pyvista\n",
    "pl = pv.Plotter()\n",
    "pl.add_mesh(pv.read(stl_shell),color='tab:orange', specular=0.5, smooth_shading=True)\n",
    "pl.add_mesh(pv.read(stl_cavity),color='tab:blue', opacity=0.5, specular=0.5, smooth_shading=True)\n",
    "pl.set_background('mistyrose', top='white')\n",
    "pl.show()"
   ]
  },
  {
   "cell_type": "markdown",
   "id": "290ded99",
   "metadata": {},
   "source": [
    "With PyVista, we can generate our geometry in Python using the Constructive Solid Geomtry (CSG) principles:\n",
    "\n",
    "<div style=\"text-align:center\">\n",
    "  <img src=\"img/schema_CSG.png\" width=\"400\">\n",
    "</div>\n",
    "\n",
    "Construct complex geometries through simple forms and boolean operations\n",
    "\n",
    "By <a href=\"//commons.wikimedia.org/wiki/User:Zottie\" title=\"User:Zottie\">User:Zottie</a> - <span class=\"int-own-work\" lang=\"en\">Own work</span>, <a href=\"http://creativecommons.org/licenses/by-sa/3.0/\" title=\"Creative Commons Attribution-Share Alike 3.0\">CC BY-SA 3.0</a>, <a href=\"https://commons.wikimedia.org/w/index.php?curid=263170\">Link</a>"
   ]
  },
  {
   "cell_type": "code",
   "execution_count": null,
   "id": "7642dfef",
   "metadata": {},
   "outputs": [],
   "source": [
    "# Adding new solids to out domain with Constructive Solid Geometry (CSG)"
   ]
  }
 ],
 "metadata": {
  "kernelspec": {
   "display_name": "wakis-env",
   "language": "python",
   "name": "python3"
  },
  "language_info": {
   "codemirror_mode": {
    "name": "ipython",
    "version": 3
   },
   "file_extension": ".py",
   "mimetype": "text/x-python",
   "name": "python",
   "nbconvert_exporter": "python",
   "pygments_lexer": "ipython3",
   "version": "3.11.8"
  }
 },
 "nbformat": 4,
 "nbformat_minor": 5
}
